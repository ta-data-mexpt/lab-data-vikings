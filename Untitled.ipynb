{
 "cells": [
  {
   "cell_type": "code",
   "execution_count": null,
   "id": "c6ef223f-47d0-4d95-b573-6817338f75df",
   "metadata": {},
   "outputs": [],
   "source": [
    "### "
   ]
  },
  {
   "cell_type": "code",
   "execution_count": 7,
   "id": "842f6e1f-cd8e-4ce2-9c8b-b8d84ff3f3b9",
   "metadata": {},
   "outputs": [
    {
     "name": "stdout",
     "output_type": "stream",
     "text": [
      "<__main__.Robot object at 0x10553a0a0> <class '__main__.Robot'>\n",
      "<__main__.PhysicianRobot object at 0x10553a130> <class '__main__.PhysicianRobot'>\n",
      "Hola, lo soyJames\n"
     ]
    }
   ],
   "source": [
    "class  Robot : \n",
    "    \n",
    "    def  __init__ ( self ,  name ):  #self is a variable that is accessible to all other variables and methods inside the class.\n",
    "        self . name  =  name         #Using self inside an object helps us pass information around without having to recompute it every time.\n",
    "        \n",
    "    def  say_hi ( self ): \n",
    "        print ( \"Hola, lo soy\"  +  self . name ) \n",
    "        \n",
    "class  PhysicianRobot ( Robot ): \n",
    "    pass \n",
    "\n",
    "x  =  Robot ( \"Marvin\" ) \n",
    "y  =  PhysicianRobot ( \"James\" ) \n",
    "\n",
    "print(x, type(x))\n",
    "print(y, type(y))\n",
    "\n",
    "y.say_hi()\n"
   ]
  },
  {
   "cell_type": "code",
   "execution_count": 9,
   "id": "80052eaa-b7a3-4e33-afac-91ddbdebb84c",
   "metadata": {},
   "outputs": [
    {
     "ename": "NameError",
     "evalue": "name 'say_hi' is not defined",
     "output_type": "error",
     "traceback": [
      "\u001b[0;31m---------------------------------------------------------------------------\u001b[0m",
      "\u001b[0;31mNameError\u001b[0m                                 Traceback (most recent call last)",
      "\u001b[0;32m/var/folders/gf/6xv8ryqj03g_vxjpsh0dvl280000gn/T/ipykernel_49180/3524194061.py\u001b[0m in \u001b[0;36m<module>\u001b[0;34m\u001b[0m\n\u001b[0;32m----> 1\u001b[0;31m \u001b[0msay_hi\u001b[0m\u001b[0;34m(\u001b[0m\u001b[0mself\u001b[0m\u001b[0;34m)\u001b[0m\u001b[0;34m\u001b[0m\u001b[0;34m\u001b[0m\u001b[0m\n\u001b[0m",
      "\u001b[0;31mNameError\u001b[0m: name 'say_hi' is not defined"
     ]
    }
   ],
   "source": []
  },
  {
   "cell_type": "code",
   "execution_count": null,
   "id": "a84d0259-97ab-4b51-83fd-55cce3ba4762",
   "metadata": {},
   "outputs": [],
   "source": []
  }
 ],
 "metadata": {
  "kernelspec": {
   "display_name": "Python 3 (ipykernel)",
   "language": "python",
   "name": "python3"
  },
  "language_info": {
   "codemirror_mode": {
    "name": "ipython",
    "version": 3
   },
   "file_extension": ".py",
   "mimetype": "text/x-python",
   "name": "python",
   "nbconvert_exporter": "python",
   "pygments_lexer": "ipython3",
   "version": "3.9.7"
  }
 },
 "nbformat": 4,
 "nbformat_minor": 5
}
