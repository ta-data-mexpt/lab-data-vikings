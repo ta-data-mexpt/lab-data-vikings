{
 "cells": [
  {
   "cell_type": "raw",
   "id": "1467663f-4dde-42c3-93c3-3d15209afaf3",
   "metadata": {},
   "source": [
    "def nombre_funcion():\n",
    "    contenido"
   ]
  },
  {
   "cell_type": "raw",
   "id": "a9b17e3a-d4bd-402d-af54-6d28448bd33d",
   "metadata": {},
   "source": [
    "class NombreClase():\n",
    "    contenido"
   ]
  },
  {
   "cell_type": "raw",
   "id": "89475dca-a475-4811-ac95-761d199f6a0a",
   "metadata": {},
   "source": [
    "pd.DataFrame"
   ]
  },
  {
   "cell_type": "code",
   "execution_count": 14,
   "id": "92f6fadc-32d9-47e4-a96a-ba6a6fb464a4",
   "metadata": {},
   "outputs": [],
   "source": [
    "class Nueva():\n",
    "    pass"
   ]
  },
  {
   "cell_type": "code",
   "execution_count": 15,
   "id": "bd0b5519-753e-4cc2-8889-55b1e4f20a6d",
   "metadata": {},
   "outputs": [],
   "source": [
    "class Nueva:\n",
    "    pass"
   ]
  },
  {
   "cell_type": "code",
   "execution_count": 16,
   "id": "cdcb2759-a038-4ce1-9412-52468abbed2e",
   "metadata": {},
   "outputs": [],
   "source": [
    "objeto = Nueva()  #instancia de una clase"
   ]
  },
  {
   "cell_type": "code",
   "execution_count": 17,
   "id": "743ded2e-faff-4a18-99dc-88ae4c7b345c",
   "metadata": {},
   "outputs": [
    {
     "data": {
      "text/plain": [
       "__main__.Nueva"
      ]
     },
     "execution_count": 17,
     "metadata": {},
     "output_type": "execute_result"
    }
   ],
   "source": [
    "type(objeto)"
   ]
  },
  {
   "cell_type": "code",
   "execution_count": 18,
   "id": "dcca9ff3-d96b-4307-a6b9-ceaa62ec8507",
   "metadata": {},
   "outputs": [],
   "source": [
    "objeto1 = Nueva()"
   ]
  },
  {
   "cell_type": "code",
   "execution_count": 19,
   "id": "ba9579da-0bd9-434d-80d5-cab64af82827",
   "metadata": {},
   "outputs": [
    {
     "data": {
      "text/plain": [
       "__main__.Nueva"
      ]
     },
     "execution_count": 19,
     "metadata": {},
     "output_type": "execute_result"
    }
   ],
   "source": [
    "type(objeto1)"
   ]
  },
  {
   "cell_type": "code",
   "execution_count": 21,
   "id": "14514b50-581d-4176-a7e0-b93bf9f48c22",
   "metadata": {},
   "outputs": [
    {
     "data": {
      "text/plain": [
       "True"
      ]
     },
     "execution_count": 21,
     "metadata": {},
     "output_type": "execute_result"
    }
   ],
   "source": [
    "isinstance(objeto, Nueva)"
   ]
  },
  {
   "cell_type": "code",
   "execution_count": 22,
   "id": "da2816dd-7ce4-4742-8639-d2e1ed40e87a",
   "metadata": {},
   "outputs": [],
   "source": [
    "nombre = \"Paco\""
   ]
  },
  {
   "cell_type": "code",
   "execution_count": 23,
   "id": "4ee3b0a6-838a-45f0-b6eb-462e8ef921da",
   "metadata": {},
   "outputs": [
    {
     "data": {
      "text/plain": [
       "'Paco'"
      ]
     },
     "execution_count": 23,
     "metadata": {},
     "output_type": "execute_result"
    }
   ],
   "source": [
    "nombre"
   ]
  },
  {
   "cell_type": "code",
   "execution_count": 24,
   "id": "4ab1965e-a044-4bdc-86e0-0c8b2a25d476",
   "metadata": {},
   "outputs": [],
   "source": [
    "objeto.nombre = \"Poncho\""
   ]
  },
  {
   "cell_type": "code",
   "execution_count": 25,
   "id": "f793023a-975b-44b6-bbe8-5ee13331030d",
   "metadata": {},
   "outputs": [
    {
     "data": {
      "text/plain": [
       "'Paco'"
      ]
     },
     "execution_count": 25,
     "metadata": {},
     "output_type": "execute_result"
    }
   ],
   "source": [
    "nombre"
   ]
  },
  {
   "cell_type": "code",
   "execution_count": 26,
   "id": "d0ebc279-626a-4bc0-adbf-df8d14c0d9ef",
   "metadata": {},
   "outputs": [
    {
     "data": {
      "text/plain": [
       "'Poncho'"
      ]
     },
     "execution_count": 26,
     "metadata": {},
     "output_type": "execute_result"
    }
   ],
   "source": [
    "objeto.nombre"
   ]
  },
  {
   "cell_type": "code",
   "execution_count": 27,
   "id": "461af5fe-704a-4714-98ee-61e99f49e8bd",
   "metadata": {},
   "outputs": [
    {
     "ename": "AttributeError",
     "evalue": "'Nueva' object has no attribute 'nombre'",
     "output_type": "error",
     "traceback": [
      "\u001b[1;31m---------------------------------------------------------------------------\u001b[0m",
      "\u001b[1;31mAttributeError\u001b[0m                            Traceback (most recent call last)",
      "Input \u001b[1;32mIn [27]\u001b[0m, in \u001b[0;36m<cell line: 1>\u001b[1;34m()\u001b[0m\n\u001b[1;32m----> 1\u001b[0m \u001b[43mobjeto1\u001b[49m\u001b[38;5;241;43m.\u001b[39;49m\u001b[43mnombre\u001b[49m\n",
      "\u001b[1;31mAttributeError\u001b[0m: 'Nueva' object has no attribute 'nombre'"
     ]
    }
   ],
   "source": [
    "objeto1.nombre"
   ]
  },
  {
   "cell_type": "code",
   "execution_count": 28,
   "id": "44de0b3d-5ada-496d-adc1-5739a7fd8aaf",
   "metadata": {},
   "outputs": [],
   "source": [
    "objeto1.nombre = 'Jorge'"
   ]
  },
  {
   "cell_type": "code",
   "execution_count": 29,
   "id": "aca1c871-b4d9-4d54-b1ef-6cf2a6a338e2",
   "metadata": {},
   "outputs": [],
   "source": [
    "objeto.mandado = {'tacos':3, 'leche':4}"
   ]
  },
  {
   "cell_type": "code",
   "execution_count": 30,
   "id": "ef80f0c0-8662-418a-8da6-3f26d02af3e9",
   "metadata": {},
   "outputs": [
    {
     "data": {
      "text/plain": [
       "{'tacos': 3, 'leche': 4}"
      ]
     },
     "execution_count": 30,
     "metadata": {},
     "output_type": "execute_result"
    }
   ],
   "source": [
    "objeto.mandado"
   ]
  },
  {
   "cell_type": "code",
   "execution_count": 32,
   "id": "64328da8-08de-4b61-8cec-e7d922b002a6",
   "metadata": {},
   "outputs": [
    {
     "data": {
      "text/plain": [
       "dict_keys(['tacos', 'leche'])"
      ]
     },
     "execution_count": 32,
     "metadata": {},
     "output_type": "execute_result"
    }
   ],
   "source": [
    "objeto.mandado.keys()"
   ]
  },
  {
   "cell_type": "code",
   "execution_count": 33,
   "id": "d766f6cc-2ac2-4dfb-86ed-01903099a63c",
   "metadata": {},
   "outputs": [
    {
     "data": {
      "text/plain": [
       "3"
      ]
     },
     "execution_count": 33,
     "metadata": {},
     "output_type": "execute_result"
    }
   ],
   "source": [
    "objeto.mandado['tacos']"
   ]
  },
  {
   "cell_type": "code",
   "execution_count": 34,
   "id": "430b4bde-7a9e-464c-96e8-5517e7e93273",
   "metadata": {},
   "outputs": [],
   "source": [
    "objeto.doble_variable = 3,4"
   ]
  },
  {
   "cell_type": "code",
   "execution_count": 35,
   "id": "4f944473-1c0b-46a0-9af2-c60f3c250d23",
   "metadata": {},
   "outputs": [
    {
     "data": {
      "text/plain": [
       "(3, 4)"
      ]
     },
     "execution_count": 35,
     "metadata": {},
     "output_type": "execute_result"
    }
   ],
   "source": [
    "objeto.doble_variable"
   ]
  },
  {
   "cell_type": "code",
   "execution_count": 36,
   "id": "a967d213-1531-4171-8805-e95d11bfc141",
   "metadata": {},
   "outputs": [
    {
     "ename": "AttributeError",
     "evalue": "'Nueva' object has no attribute 'mandado'",
     "output_type": "error",
     "traceback": [
      "\u001b[1;31m---------------------------------------------------------------------------\u001b[0m",
      "\u001b[1;31mAttributeError\u001b[0m                            Traceback (most recent call last)",
      "Input \u001b[1;32mIn [36]\u001b[0m, in \u001b[0;36m<cell line: 1>\u001b[1;34m()\u001b[0m\n\u001b[1;32m----> 1\u001b[0m \u001b[43mobjeto1\u001b[49m\u001b[38;5;241;43m.\u001b[39;49m\u001b[43mmandado\u001b[49m\n",
      "\u001b[1;31mAttributeError\u001b[0m: 'Nueva' object has no attribute 'mandado'"
     ]
    }
   ],
   "source": [
    "objeto1.mandado"
   ]
  },
  {
   "cell_type": "code",
   "execution_count": 37,
   "id": "7379a17e-d31f-4601-a9de-f150accc88d1",
   "metadata": {},
   "outputs": [
    {
     "data": {
      "text/plain": [
       "'Jorge'"
      ]
     },
     "execution_count": 37,
     "metadata": {},
     "output_type": "execute_result"
    }
   ],
   "source": [
    "objeto1.nombre"
   ]
  },
  {
   "cell_type": "code",
   "execution_count": 38,
   "id": "1cc8ea46-bdd0-4e31-9f90-765b9a2a84b7",
   "metadata": {},
   "outputs": [
    {
     "data": {
      "text/plain": [
       "'Poncho'"
      ]
     },
     "execution_count": 38,
     "metadata": {},
     "output_type": "execute_result"
    }
   ],
   "source": [
    "objeto.nombre"
   ]
  },
  {
   "cell_type": "code",
   "execution_count": 40,
   "id": "3c00c6d6-4a09-4c18-bb94-38a0dedb10d9",
   "metadata": {},
   "outputs": [
    {
     "data": {
      "text/plain": [
       "{'nombre': 'Poncho',\n",
       " 'mandado': {'tacos': 3, 'leche': 4},\n",
       " 'doble_variable': (3, 4)}"
      ]
     },
     "execution_count": 40,
     "metadata": {},
     "output_type": "execute_result"
    }
   ],
   "source": [
    "objeto.__dict__"
   ]
  },
  {
   "cell_type": "code",
   "execution_count": 41,
   "id": "6557c011-dcd5-4632-8d4a-7b88a557aa0a",
   "metadata": {},
   "outputs": [],
   "source": [
    "objeto.nombre = 'Pancho'"
   ]
  },
  {
   "cell_type": "code",
   "execution_count": 42,
   "id": "820a7cc2-25d1-4918-8c27-b49418a9a344",
   "metadata": {},
   "outputs": [
    {
     "data": {
      "text/plain": [
       "{'nombre': 'Pancho',\n",
       " 'mandado': {'tacos': 3, 'leche': 4},\n",
       " 'doble_variable': (3, 4)}"
      ]
     },
     "execution_count": 42,
     "metadata": {},
     "output_type": "execute_result"
    }
   ],
   "source": [
    "objeto.__dict__"
   ]
  },
  {
   "cell_type": "code",
   "execution_count": 45,
   "id": "14e5689b-7cca-4e82-a945-a8234beb70c0",
   "metadata": {},
   "outputs": [],
   "source": [
    "class Perro:\n",
    "    tipo = \"can\"\n",
    "    patas = 4"
   ]
  },
  {
   "cell_type": "code",
   "execution_count": 46,
   "id": "843de366-f80c-45b4-b718-486fc28726f9",
   "metadata": {},
   "outputs": [
    {
     "data": {
      "text/plain": [
       "'can'"
      ]
     },
     "execution_count": 46,
     "metadata": {},
     "output_type": "execute_result"
    }
   ],
   "source": [
    "Perro.tipo"
   ]
  },
  {
   "cell_type": "code",
   "execution_count": 47,
   "id": "43da6c9a-79eb-4000-946c-113c983c5fca",
   "metadata": {},
   "outputs": [],
   "source": [
    "perrito = Perro()"
   ]
  },
  {
   "cell_type": "code",
   "execution_count": 48,
   "id": "63a2f5dd-34ca-4175-b74b-9fb3ccbb8209",
   "metadata": {},
   "outputs": [
    {
     "data": {
      "text/plain": [
       "'can'"
      ]
     },
     "execution_count": 48,
     "metadata": {},
     "output_type": "execute_result"
    }
   ],
   "source": [
    "perrito.tipo"
   ]
  },
  {
   "cell_type": "code",
   "execution_count": 49,
   "id": "8dedeec0-bfad-4ecf-926d-60d7d88e97db",
   "metadata": {},
   "outputs": [
    {
     "data": {
      "text/plain": [
       "4"
      ]
     },
     "execution_count": 49,
     "metadata": {},
     "output_type": "execute_result"
    }
   ],
   "source": [
    "perrito.patas"
   ]
  },
  {
   "cell_type": "code",
   "execution_count": 50,
   "id": "f859c715-a386-4d0c-aace-376400bbb16f",
   "metadata": {},
   "outputs": [],
   "source": [
    "perrito.patas = 3"
   ]
  },
  {
   "cell_type": "code",
   "execution_count": 51,
   "id": "85106a8f-dab5-4b4e-9012-23baac1bc853",
   "metadata": {},
   "outputs": [
    {
     "data": {
      "text/plain": [
       "3"
      ]
     },
     "execution_count": 51,
     "metadata": {},
     "output_type": "execute_result"
    }
   ],
   "source": [
    "perrito.patas"
   ]
  },
  {
   "cell_type": "code",
   "execution_count": 52,
   "id": "bb5db668-f8be-42f5-ae5e-9c8d1982e205",
   "metadata": {},
   "outputs": [],
   "source": [
    "perrhijo = Perro()"
   ]
  },
  {
   "cell_type": "code",
   "execution_count": 53,
   "id": "29276748-8605-4bf7-a4f3-8846bac5e6f5",
   "metadata": {},
   "outputs": [
    {
     "data": {
      "text/plain": [
       "4"
      ]
     },
     "execution_count": 53,
     "metadata": {},
     "output_type": "execute_result"
    }
   ],
   "source": [
    "perrhijo.patas"
   ]
  },
  {
   "cell_type": "code",
   "execution_count": 54,
   "id": "a0635e7b-117b-450e-9f68-e7de8f8a3147",
   "metadata": {},
   "outputs": [],
   "source": [
    "perrhijo.patas = 5"
   ]
  },
  {
   "cell_type": "code",
   "execution_count": 55,
   "id": "c7ffd294-b444-43cb-bcc9-6d14343a48ce",
   "metadata": {},
   "outputs": [
    {
     "data": {
      "text/plain": [
       "5"
      ]
     },
     "execution_count": 55,
     "metadata": {},
     "output_type": "execute_result"
    }
   ],
   "source": [
    "perrhijo.patas"
   ]
  },
  {
   "cell_type": "code",
   "execution_count": 57,
   "id": "5465f643-4965-4327-b874-2df4a966bdd1",
   "metadata": {},
   "outputs": [],
   "source": [
    "perrhijo.nombre = \"firulais\""
   ]
  },
  {
   "cell_type": "code",
   "execution_count": 58,
   "id": "c5675a21-5aa4-485c-85d0-5c5e7a5f4fee",
   "metadata": {},
   "outputs": [
    {
     "data": {
      "text/plain": [
       "'firulais'"
      ]
     },
     "execution_count": 58,
     "metadata": {},
     "output_type": "execute_result"
    }
   ],
   "source": [
    "perrhijo.nombre"
   ]
  },
  {
   "cell_type": "markdown",
   "id": "c73f613d-fd7b-4ed9-993a-33267ae92c72",
   "metadata": {},
   "source": [
    "perrihijo es la forma correcta aunque Fran diga que no (yo igual pensaba que era perrijo)"
   ]
  },
  {
   "cell_type": "code",
   "execution_count": 59,
   "id": "7b6b0e00-697a-48f7-a94c-c75021be469d",
   "metadata": {},
   "outputs": [],
   "source": [
    "class Perro:\n",
    "    tipo = \"can\"\n",
    "    patas = 4\n",
    "    def __init__(self, nombre_entrada):\n",
    "        self.nombre = nombre_entrada"
   ]
  },
  {
   "cell_type": "code",
   "execution_count": 60,
   "id": "b84c79c2-aa26-4da8-aef7-26ad1f200619",
   "metadata": {},
   "outputs": [
    {
     "data": {
      "text/plain": [
       "'can'"
      ]
     },
     "execution_count": 60,
     "metadata": {},
     "output_type": "execute_result"
    }
   ],
   "source": [
    "Perro.tipo"
   ]
  },
  {
   "cell_type": "code",
   "execution_count": 61,
   "id": "38ba0037-f2da-4172-9513-dde21fc8068c",
   "metadata": {},
   "outputs": [
    {
     "ename": "AttributeError",
     "evalue": "type object 'Perro' has no attribute 'nombre'",
     "output_type": "error",
     "traceback": [
      "\u001b[1;31m---------------------------------------------------------------------------\u001b[0m",
      "\u001b[1;31mAttributeError\u001b[0m                            Traceback (most recent call last)",
      "Input \u001b[1;32mIn [61]\u001b[0m, in \u001b[0;36m<cell line: 1>\u001b[1;34m()\u001b[0m\n\u001b[1;32m----> 1\u001b[0m \u001b[43mPerro\u001b[49m\u001b[38;5;241;43m.\u001b[39;49m\u001b[43mnombre\u001b[49m\n",
      "\u001b[1;31mAttributeError\u001b[0m: type object 'Perro' has no attribute 'nombre'"
     ]
    }
   ],
   "source": [
    "Perro.nombre"
   ]
  },
  {
   "cell_type": "code",
   "execution_count": 64,
   "id": "92c1135a-eb04-46ee-94b9-16dac14f5abd",
   "metadata": {},
   "outputs": [],
   "source": [
    "perrhijo = Perro(\"capuchino\")\n",
    "# perrhijo = Perro\n",
    "# perrhijo.nombre = \"capuchino\""
   ]
  },
  {
   "cell_type": "code",
   "execution_count": 65,
   "id": "479ed4ef-8aac-4961-8f7e-4815da40a3f3",
   "metadata": {},
   "outputs": [
    {
     "data": {
      "text/plain": [
       "'capuchino'"
      ]
     },
     "execution_count": 65,
     "metadata": {},
     "output_type": "execute_result"
    }
   ],
   "source": [
    "perrhijo.nombre"
   ]
  },
  {
   "cell_type": "code",
   "execution_count": 66,
   "id": "26b1c531-597d-4c83-b62a-16f5a531151a",
   "metadata": {},
   "outputs": [
    {
     "ename": "AttributeError",
     "evalue": "type object 'Perro' has no attribute 'nombre'",
     "output_type": "error",
     "traceback": [
      "\u001b[1;31m---------------------------------------------------------------------------\u001b[0m",
      "\u001b[1;31mAttributeError\u001b[0m                            Traceback (most recent call last)",
      "Input \u001b[1;32mIn [66]\u001b[0m, in \u001b[0;36m<cell line: 1>\u001b[1;34m()\u001b[0m\n\u001b[1;32m----> 1\u001b[0m \u001b[43mPerro\u001b[49m\u001b[38;5;241;43m.\u001b[39;49m\u001b[43mnombre\u001b[49m\n",
      "\u001b[1;31mAttributeError\u001b[0m: type object 'Perro' has no attribute 'nombre'"
     ]
    }
   ],
   "source": [
    "Perro.nombre"
   ]
  },
  {
   "cell_type": "code",
   "execution_count": 67,
   "id": "9a2dd313-794f-4872-b42b-76be31b673b9",
   "metadata": {},
   "outputs": [],
   "source": [
    "perrito = Perro(\"Atenea\")"
   ]
  },
  {
   "cell_type": "code",
   "execution_count": 68,
   "id": "924a9f2e-2bc7-4c2a-a869-93db63a808ee",
   "metadata": {},
   "outputs": [
    {
     "data": {
      "text/plain": [
       "'Atenea'"
      ]
     },
     "execution_count": 68,
     "metadata": {},
     "output_type": "execute_result"
    }
   ],
   "source": [
    "perrito.nombre"
   ]
  },
  {
   "cell_type": "code",
   "execution_count": 69,
   "id": "cab76226-c667-4022-b631-28e3a8a73670",
   "metadata": {},
   "outputs": [],
   "source": [
    "palabra = \"hola\""
   ]
  },
  {
   "cell_type": "code",
   "execution_count": 70,
   "id": "66a4ce5e-69bc-41ae-ab9c-16de842a1cb7",
   "metadata": {},
   "outputs": [
    {
     "data": {
      "text/plain": [
       "'HOLA'"
      ]
     },
     "execution_count": 70,
     "metadata": {},
     "output_type": "execute_result"
    }
   ],
   "source": [
    "palabra.upper()"
   ]
  },
  {
   "cell_type": "code",
   "execution_count": 72,
   "id": "008379fa-a570-4231-82e1-82c360841073",
   "metadata": {},
   "outputs": [
    {
     "ename": "SyntaxError",
     "evalue": "invalid syntax (3177959812.py, line 2)",
     "output_type": "error",
     "traceback": [
      "\u001b[1;36m  Input \u001b[1;32mIn [72]\u001b[1;36m\u001b[0m\n\u001b[1;33m    cambiar las letras de self por mayusculas\u001b[0m\n\u001b[1;37m            ^\u001b[0m\n\u001b[1;31mSyntaxError\u001b[0m\u001b[1;31m:\u001b[0m invalid syntax\n"
     ]
    }
   ],
   "source": [
    "def upper(self):\n",
    "    cambiar las letras de self por mayusculas"
   ]
  },
  {
   "cell_type": "code",
   "execution_count": 73,
   "id": "5199b5ac-040a-4e4f-8ec2-a36a5c8e3c8c",
   "metadata": {},
   "outputs": [
    {
     "data": {
      "text/plain": [
       "'HOLA'"
      ]
     },
     "execution_count": 73,
     "metadata": {},
     "output_type": "execute_result"
    }
   ],
   "source": [
    "palabra.upper()"
   ]
  },
  {
   "cell_type": "code",
   "execution_count": 71,
   "id": "f715f7f2-7fc9-45a1-be20-0175b247d893",
   "metadata": {},
   "outputs": [
    {
     "ename": "NameError",
     "evalue": "name 'uper' is not defined",
     "output_type": "error",
     "traceback": [
      "\u001b[1;31m---------------------------------------------------------------------------\u001b[0m",
      "\u001b[1;31mNameError\u001b[0m                                 Traceback (most recent call last)",
      "Input \u001b[1;32mIn [71]\u001b[0m, in \u001b[0;36m<cell line: 1>\u001b[1;34m()\u001b[0m\n\u001b[1;32m----> 1\u001b[0m \u001b[43muper\u001b[49m(palabra)\n",
      "\u001b[1;31mNameError\u001b[0m: name 'uper' is not defined"
     ]
    }
   ],
   "source": [
    "uper(palabra)"
   ]
  },
  {
   "cell_type": "code",
   "execution_count": 110,
   "id": "3037b8a7-3e17-4627-8efa-fd41d4fd018b",
   "metadata": {},
   "outputs": [],
   "source": [
    "class Perro:\n",
    "    tipo = \"can\"\n",
    "    patas = 4\n",
    "    def __init__(self, nombre_entrada, edad, manchas = True):\n",
    "        self.nombre = nombre_entrada\n",
    "        self.edad = edad\n",
    "        self.manchas = manchas"
   ]
  },
  {
   "cell_type": "code",
   "execution_count": 111,
   "id": "27208c01-679b-44b9-a136-4dea908cd5b9",
   "metadata": {},
   "outputs": [],
   "source": [
    "perrhijo = Perro(\"capuchino\", 2)"
   ]
  },
  {
   "cell_type": "code",
   "execution_count": 112,
   "id": "fd12475e-4a85-4558-935d-c3b005ca9b04",
   "metadata": {},
   "outputs": [
    {
     "data": {
      "text/plain": [
       "'capuchino'"
      ]
     },
     "execution_count": 112,
     "metadata": {},
     "output_type": "execute_result"
    }
   ],
   "source": [
    "perrhijo.nombre"
   ]
  },
  {
   "cell_type": "code",
   "execution_count": 113,
   "id": "adf6505d-9716-4bd1-ac57-1d3b8f58546d",
   "metadata": {},
   "outputs": [
    {
     "data": {
      "text/plain": [
       "2"
      ]
     },
     "execution_count": 113,
     "metadata": {},
     "output_type": "execute_result"
    }
   ],
   "source": [
    "perrhijo.edad"
   ]
  },
  {
   "cell_type": "code",
   "execution_count": 114,
   "id": "9cf9c474-0b81-41a5-ac4e-bb101e9408f7",
   "metadata": {},
   "outputs": [
    {
     "data": {
      "text/plain": [
       "True"
      ]
     },
     "execution_count": 114,
     "metadata": {},
     "output_type": "execute_result"
    }
   ],
   "source": [
    "perrhijo.manchas"
   ]
  },
  {
   "cell_type": "code",
   "execution_count": 115,
   "id": "986f06a5-8bd6-4a52-b774-1affb22764b5",
   "metadata": {},
   "outputs": [],
   "source": [
    "import pandas as pd"
   ]
  },
  {
   "cell_type": "code",
   "execution_count": 116,
   "id": "43e17f11-8fec-4123-a6af-c94907bcfe9a",
   "metadata": {},
   "outputs": [],
   "source": [
    "df = pd.DataFrame()"
   ]
  },
  {
   "cell_type": "code",
   "execution_count": 119,
   "id": "6db77828-5e20-4b1b-abc4-867fb8195160",
   "metadata": {},
   "outputs": [
    {
     "data": {
      "text/html": [
       "<div>\n",
       "<style scoped>\n",
       "    .dataframe tbody tr th:only-of-type {\n",
       "        vertical-align: middle;\n",
       "    }\n",
       "\n",
       "    .dataframe tbody tr th {\n",
       "        vertical-align: top;\n",
       "    }\n",
       "\n",
       "    .dataframe thead th {\n",
       "        text-align: right;\n",
       "    }\n",
       "</style>\n",
       "<table border=\"1\" class=\"dataframe\">\n",
       "  <thead>\n",
       "    <tr style=\"text-align: right;\">\n",
       "      <th></th>\n",
       "    </tr>\n",
       "  </thead>\n",
       "  <tbody>\n",
       "  </tbody>\n",
       "</table>\n",
       "</div>"
      ],
      "text/plain": [
       "Empty DataFrame\n",
       "Columns: []\n",
       "Index: []"
      ]
     },
     "execution_count": 119,
     "metadata": {},
     "output_type": "execute_result"
    }
   ],
   "source": [
    "df"
   ]
  },
  {
   "cell_type": "code",
   "execution_count": null,
   "id": "012b2fe1-9ed8-41b2-9796-2de6a133de80",
   "metadata": {},
   "outputs": [],
   "source": [
    "for pagina_internet in lista_paginas:\n",
    "    sacar_info_pagina\n",
    "    agregar_info a df (df.append(contenido))"
   ]
  },
  {
   "cell_type": "code",
   "execution_count": 122,
   "id": "39cb675e-f86f-44cb-ad49-70e8dcd7f837",
   "metadata": {},
   "outputs": [],
   "source": [
    "df = pd.DataFrame([[0,1],[4,5]], columns = ['precio', 'cantidad'])"
   ]
  },
  {
   "cell_type": "code",
   "execution_count": 123,
   "id": "04a33880-c847-43ce-970a-9412793a13bd",
   "metadata": {},
   "outputs": [
    {
     "data": {
      "text/html": [
       "<div>\n",
       "<style scoped>\n",
       "    .dataframe tbody tr th:only-of-type {\n",
       "        vertical-align: middle;\n",
       "    }\n",
       "\n",
       "    .dataframe tbody tr th {\n",
       "        vertical-align: top;\n",
       "    }\n",
       "\n",
       "    .dataframe thead th {\n",
       "        text-align: right;\n",
       "    }\n",
       "</style>\n",
       "<table border=\"1\" class=\"dataframe\">\n",
       "  <thead>\n",
       "    <tr style=\"text-align: right;\">\n",
       "      <th></th>\n",
       "      <th>precio</th>\n",
       "      <th>cantidad</th>\n",
       "    </tr>\n",
       "  </thead>\n",
       "  <tbody>\n",
       "    <tr>\n",
       "      <th>0</th>\n",
       "      <td>0</td>\n",
       "      <td>1</td>\n",
       "    </tr>\n",
       "    <tr>\n",
       "      <th>1</th>\n",
       "      <td>4</td>\n",
       "      <td>5</td>\n",
       "    </tr>\n",
       "  </tbody>\n",
       "</table>\n",
       "</div>"
      ],
      "text/plain": [
       "   precio  cantidad\n",
       "0       0         1\n",
       "1       4         5"
      ]
     },
     "execution_count": 123,
     "metadata": {},
     "output_type": "execute_result"
    }
   ],
   "source": [
    "df"
   ]
  },
  {
   "cell_type": "code",
   "execution_count": 124,
   "id": "99278aac-d744-49b2-a055-6c85f927cf0f",
   "metadata": {},
   "outputs": [],
   "source": [
    "df = pd.DataFrame([[0,1],[4,5]])"
   ]
  },
  {
   "cell_type": "code",
   "execution_count": 125,
   "id": "d3ac65ef-012f-4bea-a877-864619b4fa7e",
   "metadata": {},
   "outputs": [
    {
     "data": {
      "text/html": [
       "<div>\n",
       "<style scoped>\n",
       "    .dataframe tbody tr th:only-of-type {\n",
       "        vertical-align: middle;\n",
       "    }\n",
       "\n",
       "    .dataframe tbody tr th {\n",
       "        vertical-align: top;\n",
       "    }\n",
       "\n",
       "    .dataframe thead th {\n",
       "        text-align: right;\n",
       "    }\n",
       "</style>\n",
       "<table border=\"1\" class=\"dataframe\">\n",
       "  <thead>\n",
       "    <tr style=\"text-align: right;\">\n",
       "      <th></th>\n",
       "      <th>0</th>\n",
       "      <th>1</th>\n",
       "    </tr>\n",
       "  </thead>\n",
       "  <tbody>\n",
       "    <tr>\n",
       "      <th>0</th>\n",
       "      <td>0</td>\n",
       "      <td>1</td>\n",
       "    </tr>\n",
       "    <tr>\n",
       "      <th>1</th>\n",
       "      <td>4</td>\n",
       "      <td>5</td>\n",
       "    </tr>\n",
       "  </tbody>\n",
       "</table>\n",
       "</div>"
      ],
      "text/plain": [
       "   0  1\n",
       "0  0  1\n",
       "1  4  5"
      ]
     },
     "execution_count": 125,
     "metadata": {},
     "output_type": "execute_result"
    }
   ],
   "source": [
    "df"
   ]
  },
  {
   "cell_type": "code",
   "execution_count": 126,
   "id": "e157a12b-d3d7-4aa3-8344-64635b704e94",
   "metadata": {},
   "outputs": [],
   "source": [
    "# class DataFrame:\n",
    "#     def __init__(data = None, columns = [0,1,2...]):\n",
    "        "
   ]
  },
  {
   "cell_type": "code",
   "execution_count": 148,
   "id": "373f1c21-00bb-4fbe-9374-34ffb9ce1547",
   "metadata": {},
   "outputs": [],
   "source": [
    "class Perro:\n",
    "    tipo = \"can\"\n",
    "    patas = 4\n",
    "    def __init__(self, nombre_entrada, edad, manchas = True):\n",
    "        self.nombre = nombre_entrada\n",
    "        self.edad = edad\n",
    "        self.manchas = manchas\n",
    "        self.alimento = \"croquetas\""
   ]
  },
  {
   "cell_type": "code",
   "execution_count": 129,
   "id": "0cd9f4d3-8ddf-432c-87f1-e6d54e1b57f6",
   "metadata": {},
   "outputs": [
    {
     "ename": "AttributeError",
     "evalue": "type object 'Perro' has no attribute 'alimento'",
     "output_type": "error",
     "traceback": [
      "\u001b[1;31m---------------------------------------------------------------------------\u001b[0m",
      "\u001b[1;31mAttributeError\u001b[0m                            Traceback (most recent call last)",
      "Input \u001b[1;32mIn [129]\u001b[0m, in \u001b[0;36m<cell line: 1>\u001b[1;34m()\u001b[0m\n\u001b[1;32m----> 1\u001b[0m \u001b[43mPerro\u001b[49m\u001b[38;5;241;43m.\u001b[39;49m\u001b[43malimento\u001b[49m\n",
      "\u001b[1;31mAttributeError\u001b[0m: type object 'Perro' has no attribute 'alimento'"
     ]
    }
   ],
   "source": [
    "Perro.alimento"
   ]
  },
  {
   "cell_type": "code",
   "execution_count": 149,
   "id": "afa00f61-5742-41b2-adfb-1c7d2aeb7f9a",
   "metadata": {},
   "outputs": [
    {
     "data": {
      "text/plain": [
       "'can'"
      ]
     },
     "execution_count": 149,
     "metadata": {},
     "output_type": "execute_result"
    }
   ],
   "source": [
    "Perro.tipo"
   ]
  },
  {
   "cell_type": "code",
   "execution_count": 150,
   "id": "d494d9d8-ad3c-470d-939b-109d2603e8d1",
   "metadata": {},
   "outputs": [],
   "source": [
    "perrihijo = Perro(\"Atenea\", 3, manchas = False)"
   ]
  },
  {
   "cell_type": "code",
   "execution_count": 151,
   "id": "5608ad40-da30-42f3-a248-13378faa82f8",
   "metadata": {},
   "outputs": [
    {
     "data": {
      "text/plain": [
       "{'nombre': 'Atenea', 'edad': 3, 'manchas': False, 'alimento': 'croquetas'}"
      ]
     },
     "execution_count": 151,
     "metadata": {},
     "output_type": "execute_result"
    }
   ],
   "source": [
    "perrihijo.__dict__"
   ]
  },
  {
   "cell_type": "code",
   "execution_count": 152,
   "id": "325c946f-44fb-4045-b523-a12c5ccc1f93",
   "metadata": {},
   "outputs": [
    {
     "data": {
      "text/plain": [
       "'can'"
      ]
     },
     "execution_count": 152,
     "metadata": {},
     "output_type": "execute_result"
    }
   ],
   "source": [
    "perrihijo.tipo"
   ]
  },
  {
   "cell_type": "code",
   "execution_count": 153,
   "id": "348bb52a-9ce1-405c-bf48-8fe94af0db54",
   "metadata": {},
   "outputs": [],
   "source": [
    "perrito = Perro(\"capuchino\", 2, False)"
   ]
  },
  {
   "cell_type": "code",
   "execution_count": 154,
   "id": "8745c215-e57d-46a2-9b1e-3e7974ba2a2a",
   "metadata": {},
   "outputs": [
    {
     "data": {
      "text/plain": [
       "'croquetas'"
      ]
     },
     "execution_count": 154,
     "metadata": {},
     "output_type": "execute_result"
    }
   ],
   "source": [
    "perrito.alimento"
   ]
  },
  {
   "cell_type": "code",
   "execution_count": 155,
   "id": "48b669a8-5245-46e5-8fc7-684fa8f7cb5e",
   "metadata": {},
   "outputs": [],
   "source": [
    "perrito.alimento = \"pollito\""
   ]
  },
  {
   "cell_type": "code",
   "execution_count": 156,
   "id": "45b49743-863d-47ee-ab7a-e84d7426d254",
   "metadata": {},
   "outputs": [
    {
     "data": {
      "text/plain": [
       "'pollito'"
      ]
     },
     "execution_count": 156,
     "metadata": {},
     "output_type": "execute_result"
    }
   ],
   "source": [
    "perrito.alimento"
   ]
  },
  {
   "cell_type": "code",
   "execution_count": 157,
   "id": "8a496685-63ef-4f0a-b468-707d069051a0",
   "metadata": {},
   "outputs": [
    {
     "data": {
      "text/plain": [
       "{'nombre': 'capuchino', 'edad': 2, 'manchas': False, 'alimento': 'pollito'}"
      ]
     },
     "execution_count": 157,
     "metadata": {},
     "output_type": "execute_result"
    }
   ],
   "source": [
    "perrito.__dict__"
   ]
  },
  {
   "cell_type": "code",
   "execution_count": 166,
   "id": "211a5847-adc4-440d-9ff7-07f7dcee99dd",
   "metadata": {},
   "outputs": [],
   "source": [
    "class Perro:\n",
    "    tipo = \"can\"\n",
    "    patas = 4\n",
    "    def __init__(self, nombre_entrada, edad, manchas = True):\n",
    "        self.nombre = nombre_entrada\n",
    "        self.edad = edad\n",
    "        self.manchas = manchas\n",
    "        self.alimento = \"croquetas\"\n",
    "    \n",
    "    def decir_nombre(self):\n",
    "        print(f\"Hola me llamo {self.nombre}\")"
   ]
  },
  {
   "cell_type": "code",
   "execution_count": 168,
   "id": "26117a75-d8dc-4b2d-846b-2d24ee128611",
   "metadata": {},
   "outputs": [],
   "source": [
    "perrihijo = Perro(\"Atenea\", 3, False)"
   ]
  },
  {
   "cell_type": "code",
   "execution_count": 169,
   "id": "880f4b8f-8fa4-4b23-bd58-4942ab708f08",
   "metadata": {},
   "outputs": [
    {
     "data": {
      "text/plain": [
       "'Atenea'"
      ]
     },
     "execution_count": 169,
     "metadata": {},
     "output_type": "execute_result"
    }
   ],
   "source": [
    "perrihijo.nombre"
   ]
  },
  {
   "cell_type": "code",
   "execution_count": 170,
   "id": "6904202e-9b12-4414-bb3d-e645bb421099",
   "metadata": {},
   "outputs": [
    {
     "data": {
      "text/plain": [
       "<bound method Perro.decir_nombre of <__main__.Perro object at 0x0000012D99466820>>"
      ]
     },
     "execution_count": 170,
     "metadata": {},
     "output_type": "execute_result"
    }
   ],
   "source": [
    "perrihijo.decir_nombre"
   ]
  },
  {
   "cell_type": "code",
   "execution_count": 171,
   "id": "400dca15-77e7-4e66-966b-218dc381751e",
   "metadata": {},
   "outputs": [],
   "source": [
    "def funcion_prueba():\n",
    "    print(\"hola\")"
   ]
  },
  {
   "cell_type": "code",
   "execution_count": 172,
   "id": "9b6ba7b5-b840-4193-b844-7ded76fbd0ec",
   "metadata": {},
   "outputs": [
    {
     "name": "stdout",
     "output_type": "stream",
     "text": [
      "hola\n"
     ]
    }
   ],
   "source": [
    "funcion_prueba()"
   ]
  },
  {
   "cell_type": "code",
   "execution_count": 173,
   "id": "166fa9c4-9532-4023-9722-9172d99282cf",
   "metadata": {},
   "outputs": [
    {
     "name": "stdout",
     "output_type": "stream",
     "text": [
      "Hola me llamo Atenea\n"
     ]
    }
   ],
   "source": [
    "perrihijo.decir_nombre()"
   ]
  },
  {
   "cell_type": "code",
   "execution_count": 174,
   "id": "1109b375-f41a-49de-b83a-c0f0d8180b7b",
   "metadata": {},
   "outputs": [],
   "source": [
    "# atributo = variables dentro de la clase\n",
    "# metodo = funciones dentro de las clases\n",
    "class Perro:\n",
    "    tipo = \"can\"\n",
    "    patas = 4\n",
    "    def __init__(self, nombre_entrada, edad, manchas = True):\n",
    "        self.nombre = nombre_entrada\n",
    "        self.edad = edad\n",
    "        self.manchas = manchas\n",
    "        self.alimento = \"croquetas\"\n",
    "    \n",
    "    def decir_nombre(self):\n",
    "        print(f\"Hola me llamo {self.nombre}\")\n",
    "    \n",
    "    def funcion_2():\n",
    "        print(\"hola amigos\")"
   ]
  },
  {
   "cell_type": "code",
   "execution_count": 175,
   "id": "034f86a1-6f55-4ff3-bd87-ab51e9162bc2",
   "metadata": {},
   "outputs": [],
   "source": [
    "perrihijo = Perro(\"Atenea\", 3, False)"
   ]
  },
  {
   "cell_type": "code",
   "execution_count": 176,
   "id": "0a678b44-49ff-4db8-81b0-46d38917668d",
   "metadata": {},
   "outputs": [
    {
     "ename": "TypeError",
     "evalue": "funcion_2() takes 0 positional arguments but 1 was given",
     "output_type": "error",
     "traceback": [
      "\u001b[1;31m---------------------------------------------------------------------------\u001b[0m",
      "\u001b[1;31mTypeError\u001b[0m                                 Traceback (most recent call last)",
      "Input \u001b[1;32mIn [176]\u001b[0m, in \u001b[0;36m<cell line: 1>\u001b[1;34m()\u001b[0m\n\u001b[1;32m----> 1\u001b[0m \u001b[43mperrihijo\u001b[49m\u001b[38;5;241;43m.\u001b[39;49m\u001b[43mfuncion_2\u001b[49m\u001b[43m(\u001b[49m\u001b[43m)\u001b[49m\n",
      "\u001b[1;31mTypeError\u001b[0m: funcion_2() takes 0 positional arguments but 1 was given"
     ]
    }
   ],
   "source": [
    "perrihijo.funcion_2()"
   ]
  },
  {
   "cell_type": "code",
   "execution_count": 178,
   "id": "3143c01f-a499-44de-a4a5-6a2ffd4e6186",
   "metadata": {},
   "outputs": [
    {
     "name": "stdout",
     "output_type": "stream",
     "text": [
      "hola amigos\n"
     ]
    }
   ],
   "source": [
    "Perro.funcion_2()"
   ]
  },
  {
   "cell_type": "code",
   "execution_count": 180,
   "id": "1bd39777-7993-4c35-a9eb-758b9d68af25",
   "metadata": {},
   "outputs": [
    {
     "name": "stdout",
     "output_type": "stream",
     "text": [
      "Hola me llamo Atenea\n"
     ]
    }
   ],
   "source": [
    "Perro.decir_nombre(perrihijo)"
   ]
  },
  {
   "cell_type": "code",
   "execution_count": 181,
   "id": "7f3a180b-3471-4681-8150-a98bddaed751",
   "metadata": {},
   "outputs": [],
   "source": [
    "lista_de_string = ['hola', 'bye', 'que tal']"
   ]
  },
  {
   "cell_type": "code",
   "execution_count": 182,
   "id": "dcfbc7c1-e3e2-4b54-abdc-36a911c4bdb8",
   "metadata": {},
   "outputs": [
    {
     "data": {
      "text/plain": [
       "['HOLA', 'BYE', 'QUE TAL']"
      ]
     },
     "execution_count": 182,
     "metadata": {},
     "output_type": "execute_result"
    }
   ],
   "source": [
    "list(map(lambda string: string.upper(), lista_de_string))"
   ]
  },
  {
   "cell_type": "code",
   "execution_count": 183,
   "id": "e8dad27d-f33a-4bcb-b019-395e86ebcb6f",
   "metadata": {},
   "outputs": [
    {
     "data": {
      "text/plain": [
       "'342'"
      ]
     },
     "execution_count": 183,
     "metadata": {},
     "output_type": "execute_result"
    }
   ],
   "source": [
    "str(342)"
   ]
  },
  {
   "cell_type": "code",
   "execution_count": 185,
   "id": "6204ddf5-ac8c-4c29-9805-b5d708184cbd",
   "metadata": {},
   "outputs": [
    {
     "data": {
      "text/plain": [
       "['HOLA', 'BYE', 'QUE TAL']"
      ]
     },
     "execution_count": 185,
     "metadata": {},
     "output_type": "execute_result"
    }
   ],
   "source": [
    "list(map(str.upper, lista_de_string))"
   ]
  },
  {
   "cell_type": "code",
   "execution_count": 186,
   "id": "f48600ee-e618-426d-90a9-91cdccef3a28",
   "metadata": {},
   "outputs": [
    {
     "data": {
      "text/plain": [
       "'HOLA'"
      ]
     },
     "execution_count": 186,
     "metadata": {},
     "output_type": "execute_result"
    }
   ],
   "source": [
    "str.upper(\"hola\")"
   ]
  },
  {
   "cell_type": "code",
   "execution_count": 196,
   "id": "5701bbcb-d737-459f-8d02-9ffd75f7c718",
   "metadata": {},
   "outputs": [],
   "source": [
    "class Perro:\n",
    "    tipo = \"can\"\n",
    "    patas = 4\n",
    "    def __init__(self, nombre_entrada, edad, manchas = True):\n",
    "        self.nombre = nombre_entrada\n",
    "        self.edad = edad\n",
    "        self.manchas = manchas\n",
    "        self.alimento = \"croquetas\"\n",
    "    \n",
    "    def decir_nombre(self):\n",
    "        print(f\"Hola me llamo {self.nombre}\")\n",
    "    \n",
    "    def decir_nombre_frase(self, frase):\n",
    "        print(frase, self.nombre)\n",
    "        \n",
    "    def describir_clase(self):\n",
    "        print(\"\"\"Esta clase trae los siguientes atributos\n",
    "              -nombre\n",
    "              -edad\"\"\")"
   ]
  },
  {
   "cell_type": "code",
   "execution_count": 197,
   "id": "da72be84-ebfb-4774-91e4-a19d2caa4772",
   "metadata": {},
   "outputs": [],
   "source": [
    "perrihijo = Perro(\"Atenea\", 3, False)"
   ]
  },
  {
   "cell_type": "code",
   "execution_count": 198,
   "id": "a3306ea8-fd71-470d-bdc4-abf577fd9df1",
   "metadata": {},
   "outputs": [
    {
     "name": "stdout",
     "output_type": "stream",
     "text": [
      "Uy se antojan unos chilaquilitos apoco no? - Atenea\n"
     ]
    }
   ],
   "source": [
    "perrihijo.decir_nombre_frase(\"Uy se antojan unos chilaquilitos apoco no? -\")"
   ]
  },
  {
   "cell_type": "code",
   "execution_count": 199,
   "id": "35c9c90c-19e4-431e-9261-527412e8e58b",
   "metadata": {},
   "outputs": [
    {
     "name": "stdout",
     "output_type": "stream",
     "text": [
      "Esta clase trae los siguientes atributos\n",
      "              -nombre\n",
      "              -edad\n"
     ]
    }
   ],
   "source": [
    "perrihijo.describir_clase()"
   ]
  },
  {
   "cell_type": "code",
   "execution_count": 201,
   "id": "8d478345-7d23-43df-901d-c084e433cd8d",
   "metadata": {},
   "outputs": [
    {
     "data": {
      "text/plain": [
       "False"
      ]
     },
     "execution_count": 201,
     "metadata": {},
     "output_type": "execute_result"
    }
   ],
   "source": [
    "perrihijo.manchas"
   ]
  },
  {
   "cell_type": "code",
   "execution_count": 202,
   "id": "168d54aa-7cbe-4932-8d0b-bec425960032",
   "metadata": {},
   "outputs": [],
   "source": [
    "perrihijo.manchas = True"
   ]
  },
  {
   "cell_type": "code",
   "execution_count": 203,
   "id": "2551723c-dace-41ab-8425-8ef69f005b60",
   "metadata": {},
   "outputs": [
    {
     "data": {
      "text/plain": [
       "True"
      ]
     },
     "execution_count": 203,
     "metadata": {},
     "output_type": "execute_result"
    }
   ],
   "source": [
    "perrihijo.manchas"
   ]
  },
  {
   "cell_type": "code",
   "execution_count": 204,
   "id": "096ef89b-42d5-4800-9064-dbd795a04b97",
   "metadata": {},
   "outputs": [],
   "source": [
    "class Perro:\n",
    "    tipo = \"can\"\n",
    "    patas = 4\n",
    "    def __init__(self, nombre_entrada, edad, manchas = True):\n",
    "        self.nombre = nombre_entrada\n",
    "        self.edad = edad\n",
    "        self.manchas = manchas\n",
    "        self.alimento = \"croquetas\"\n",
    "    \n",
    "    def decir_nombre(self):\n",
    "        print(f\"Hola me llamo {self.nombre}\")\n",
    "    \n",
    "    def decir_nombre_frase(self, frase):\n",
    "        print(frase, self.nombre)\n",
    "        \n",
    "    def cambio_nombre(self, nombre_nuevo):\n",
    "        self.nombre = nombre_nuevo\n",
    "    \n",
    "    def cumplir_años(self):\n",
    "        self.edad = self.edad + 1 # self.edad += 1"
   ]
  },
  {
   "cell_type": "code",
   "execution_count": 205,
   "id": "c68cbed3-9d93-49ac-816e-b646b1136ee5",
   "metadata": {},
   "outputs": [],
   "source": [
    "perrihijo = Perro(\"Atenea\", 3, False)"
   ]
  },
  {
   "cell_type": "code",
   "execution_count": 206,
   "id": "08b52972-35d6-41ed-9265-194e1d92534a",
   "metadata": {},
   "outputs": [
    {
     "data": {
      "text/plain": [
       "{'nombre': 'Atenea', 'edad': 3, 'manchas': False, 'alimento': 'croquetas'}"
      ]
     },
     "execution_count": 206,
     "metadata": {},
     "output_type": "execute_result"
    }
   ],
   "source": [
    "perrihijo.__dict__"
   ]
  },
  {
   "cell_type": "code",
   "execution_count": 207,
   "id": "1a51f47c-1193-4876-89df-7c5bd5f3b142",
   "metadata": {},
   "outputs": [],
   "source": [
    "#perrihijo.nombre = \"nuevo nombre\""
   ]
  },
  {
   "cell_type": "code",
   "execution_count": 208,
   "id": "a38a9db6-e686-41aa-b7ff-3eed5430e623",
   "metadata": {},
   "outputs": [],
   "source": [
    "perrihijo.cambio_nombre(\"Bicicleta\") #perrihijo.nombre = \"Bicicleta\""
   ]
  },
  {
   "cell_type": "code",
   "execution_count": 209,
   "id": "2fa899a9-f835-439c-9986-452bc5f6bf42",
   "metadata": {},
   "outputs": [
    {
     "data": {
      "text/plain": [
       "{'nombre': 'Bicicleta', 'edad': 3, 'manchas': False, 'alimento': 'croquetas'}"
      ]
     },
     "execution_count": 209,
     "metadata": {},
     "output_type": "execute_result"
    }
   ],
   "source": [
    "perrihijo.__dict__"
   ]
  },
  {
   "cell_type": "code",
   "execution_count": 210,
   "id": "f7ae27e5-eb2c-4802-83e8-95d2c86f6be8",
   "metadata": {},
   "outputs": [],
   "source": [
    "perrihijo.cumplir_años() #perrihijo.edad = perrihijo.edad + 1"
   ]
  },
  {
   "cell_type": "code",
   "execution_count": 211,
   "id": "e7f1510c-742d-4556-b181-8685ab513d35",
   "metadata": {},
   "outputs": [
    {
     "data": {
      "text/plain": [
       "{'nombre': 'Bicicleta', 'edad': 4, 'manchas': False, 'alimento': 'croquetas'}"
      ]
     },
     "execution_count": 211,
     "metadata": {},
     "output_type": "execute_result"
    }
   ],
   "source": [
    "perrihijo.__dict__"
   ]
  },
  {
   "cell_type": "code",
   "execution_count": 212,
   "id": "5bc24b35-c7df-4f84-86b1-8e80be9a3b39",
   "metadata": {},
   "outputs": [],
   "source": [
    "perrihijo.cumplir_años() #perrihijo.edad = perrihijo.edad + 1"
   ]
  },
  {
   "cell_type": "code",
   "execution_count": 213,
   "id": "4cde6ba8-ce53-49a2-a378-07cb44813446",
   "metadata": {},
   "outputs": [
    {
     "data": {
      "text/plain": [
       "{'nombre': 'Bicicleta', 'edad': 5, 'manchas': False, 'alimento': 'croquetas'}"
      ]
     },
     "execution_count": 213,
     "metadata": {},
     "output_type": "execute_result"
    }
   ],
   "source": [
    "perrihijo.__dict__"
   ]
  },
  {
   "cell_type": "code",
   "execution_count": 241,
   "id": "572773b0-ae28-47e0-81d7-05356e6a0ae9",
   "metadata": {},
   "outputs": [],
   "source": [
    "class Mascota:\n",
    "    \n",
    "    animal = True\n",
    "    def __init__(self, nombre, vacunas = False):\n",
    "        self.nombre = nombre\n",
    "        self.vacunas = vacunas\n",
    "        \n",
    "    def ruido(self):\n",
    "        print(\"Soy un animal parlanchin\")\n",
    "    \n",
    "    def comer(self):\n",
    "        print(\"El animal comio\")\n",
    "        \n",
    "class Perro(Mascota):\n",
    "    pass"
   ]
  },
  {
   "cell_type": "code",
   "execution_count": 242,
   "id": "fba1b458-1c7f-4655-9b58-9541c9810abe",
   "metadata": {},
   "outputs": [
    {
     "data": {
      "text/plain": [
       "True"
      ]
     },
     "execution_count": 242,
     "metadata": {},
     "output_type": "execute_result"
    }
   ],
   "source": [
    "Perro.animal"
   ]
  },
  {
   "cell_type": "code",
   "execution_count": 243,
   "id": "c7de5003-ccae-45f9-af1c-f5c175626222",
   "metadata": {},
   "outputs": [],
   "source": [
    "capuchino = Mascota(\"capuchino\")"
   ]
  },
  {
   "cell_type": "code",
   "execution_count": 244,
   "id": "15211bc0-6095-497b-bef8-07880241af34",
   "metadata": {},
   "outputs": [
    {
     "data": {
      "text/plain": [
       "{'nombre': 'capuchino', 'vacunas': False}"
      ]
     },
     "execution_count": 244,
     "metadata": {},
     "output_type": "execute_result"
    }
   ],
   "source": [
    "capuchino.__dict__"
   ]
  },
  {
   "cell_type": "code",
   "execution_count": 228,
   "id": "fd2fb807-c7ed-44ba-af34-4d179042c5a3",
   "metadata": {},
   "outputs": [
    {
     "name": "stdout",
     "output_type": "stream",
     "text": [
      "Soy un animal parlanchin\n"
     ]
    }
   ],
   "source": [
    "capuchino.ruido()"
   ]
  },
  {
   "cell_type": "code",
   "execution_count": 229,
   "id": "40374bf8-389a-491c-9a96-a91f3725675d",
   "metadata": {},
   "outputs": [
    {
     "name": "stdout",
     "output_type": "stream",
     "text": [
      "El animal comio\n"
     ]
    }
   ],
   "source": [
    "capuchino.comer()"
   ]
  },
  {
   "cell_type": "code",
   "execution_count": 223,
   "id": "b89ee8ed-4f73-4b0b-963c-e526f0bcf359",
   "metadata": {},
   "outputs": [],
   "source": [
    "capuchino = Perro(\"capuchino\")"
   ]
  },
  {
   "cell_type": "code",
   "execution_count": 224,
   "id": "b89b7c14-5675-465f-bbfb-ad03b1cc275b",
   "metadata": {},
   "outputs": [
    {
     "name": "stdout",
     "output_type": "stream",
     "text": [
      "Soy un animal parlanchin\n"
     ]
    }
   ],
   "source": [
    "capuchino.ruido()"
   ]
  },
  {
   "cell_type": "code",
   "execution_count": 225,
   "id": "000381b5-1e89-4da1-9a42-69a0ca9ed82b",
   "metadata": {},
   "outputs": [
    {
     "name": "stdout",
     "output_type": "stream",
     "text": [
      "El animal comio\n"
     ]
    }
   ],
   "source": [
    "capuchino.comer()"
   ]
  },
  {
   "cell_type": "code",
   "execution_count": 258,
   "id": "8593ae38-9735-4788-b826-3385a8751cb2",
   "metadata": {},
   "outputs": [],
   "source": [
    "class Mascota:\n",
    "    \n",
    "    animal = True\n",
    "    def __init__(self, nombre, vacunas = False):\n",
    "        self.nombre = nombre\n",
    "        self.vacunas = vacunas\n",
    "        \n",
    "    def ruido(self):\n",
    "        print(\"Soy un animal parlanchin\")\n",
    "    \n",
    "    def comer(self):\n",
    "        print(\"El animal comio\")\n",
    "        \n",
    "class Perro(Mascota):\n",
    "    \n",
    "    tipo = \"can\"\n",
    "    patas = 4\n",
    "    animal = False\n",
    "    \n",
    "    def __init__(self, nombre_entrada, edad, manchas = True, vacunas = False):\n",
    "        self.edad = edad\n",
    "        self.manchas = manchas\n",
    "        self.alimento = \"croquetas\"\n",
    "        Mascota.__init__(self, nombre_entrada, vacunas)\n",
    "    \n",
    "    \n",
    "class Gato(Mascota):\n",
    "    \n",
    "    tipo = \"felino\"\n",
    "    \n",
    "    def __init__(self, nombre_entrada, edad, color, vidas_restantes = 9, manchas = True, vacunas = False):\n",
    "        self.edad = edad\n",
    "        self.manchas = manchas\n",
    "        self.color = color\n",
    "        self.vidas_restantes = vidas_restantes\n",
    "        super().__init__(nombre_entrada, vacunas)"
   ]
  },
  {
   "cell_type": "code",
   "execution_count": 259,
   "id": "bad577df-4d01-4006-8825-0dafbaef58a1",
   "metadata": {},
   "outputs": [
    {
     "data": {
      "text/plain": [
       "True"
      ]
     },
     "execution_count": 259,
     "metadata": {},
     "output_type": "execute_result"
    }
   ],
   "source": [
    "Mascota.animal"
   ]
  },
  {
   "cell_type": "code",
   "execution_count": 260,
   "id": "bac066bb-57f2-48dc-a1c3-6bcc5a6d7b1c",
   "metadata": {},
   "outputs": [
    {
     "data": {
      "text/plain": [
       "False"
      ]
     },
     "execution_count": 260,
     "metadata": {},
     "output_type": "execute_result"
    }
   ],
   "source": [
    "Perro.animal"
   ]
  },
  {
   "cell_type": "code",
   "execution_count": 261,
   "id": "3115df3e-35fe-4720-94b9-1e6cf792fdd9",
   "metadata": {},
   "outputs": [],
   "source": [
    "capuchino = Perro(\"capuchino\", 2)\n",
    "\n",
    "# capuchino.edad = 2\n",
    "# capuchino.manchas = True\n",
    "# capuchino.alimento = \"croquetas\"\n",
    "#\n",
    "#Mascota.__init__(capuchino, \"capuchino\", False) \n",
    "# capuchino.nombre = \"capuchino\"\n",
    "# capuchino.vacunas = False"
   ]
  },
  {
   "cell_type": "code",
   "execution_count": 262,
   "id": "947b7f29-253f-4aa8-bd0d-9af3ca96542c",
   "metadata": {},
   "outputs": [
    {
     "data": {
      "text/plain": [
       "False"
      ]
     },
     "execution_count": 262,
     "metadata": {},
     "output_type": "execute_result"
    }
   ],
   "source": [
    "capuchino.vacunas"
   ]
  },
  {
   "cell_type": "code",
   "execution_count": 263,
   "id": "ae78efb6-bf4f-4360-9e35-120dd0286db3",
   "metadata": {},
   "outputs": [
    {
     "data": {
      "text/plain": [
       "{'edad': 2,\n",
       " 'manchas': True,\n",
       " 'alimento': 'croquetas',\n",
       " 'nombre': 'capuchino',\n",
       " 'vacunas': False}"
      ]
     },
     "execution_count": 263,
     "metadata": {},
     "output_type": "execute_result"
    }
   ],
   "source": [
    "capuchino.__dict__"
   ]
  },
  {
   "cell_type": "code",
   "execution_count": 264,
   "id": "d445a959-0065-4acc-9f00-b8bdea402658",
   "metadata": {},
   "outputs": [],
   "source": [
    "nana = Gato(\"nana\", .5, \"gris\", manchas = False, vacunas = True)"
   ]
  },
  {
   "cell_type": "code",
   "execution_count": 265,
   "id": "c936d881-2852-4c66-a4f1-4343832e7305",
   "metadata": {},
   "outputs": [
    {
     "data": {
      "text/plain": [
       "{'edad': 0.5,\n",
       " 'manchas': False,\n",
       " 'color': 'gris',\n",
       " 'vidas_restantes': 9,\n",
       " 'nombre': 'nana',\n",
       " 'vacunas': True}"
      ]
     },
     "execution_count": 265,
     "metadata": {},
     "output_type": "execute_result"
    }
   ],
   "source": [
    "nana.__dict__"
   ]
  },
  {
   "cell_type": "code",
   "execution_count": 266,
   "id": "6436dcbe-9ed8-4b20-a151-0ab493881db4",
   "metadata": {},
   "outputs": [],
   "source": [
    "class Mascota:\n",
    "    \n",
    "    animal = True\n",
    "    def __init__(self, nombre, vacunas = False):\n",
    "        self.nombre = nombre\n",
    "        self.vacunas = vacunas\n",
    "        \n",
    "    def ruido(self):\n",
    "        print(\"Soy un animal parlanchin\")\n",
    "    \n",
    "    def comer(self):\n",
    "        print(\"El animal comio\")\n",
    "        \n",
    "class Perro(Mascota):\n",
    "    \n",
    "    tipo = \"can\"\n",
    "    patas = 4\n",
    "    animal = False\n",
    "    \n",
    "    def __init__(self, nombre_entrada, edad, manchas = True, vacunas = False):\n",
    "        self.edad = edad\n",
    "        self.manchas = manchas\n",
    "        self.alimento = \"croquetas\"\n",
    "        Mascota.__init__(self, nombre_entrada, vacunas)\n",
    "        \n",
    "    def ruido(self):\n",
    "        print(\"Guau guau si soy un perro\")\n",
    "    \n",
    "    \n",
    "class Gato(Mascota):\n",
    "    \n",
    "    tipo = \"felino\"\n",
    "    \n",
    "    def __init__(self, nombre_entrada, edad, color, vidas_restantes = 9, manchas = True, vacunas = False):\n",
    "        self.edad = edad\n",
    "        self.manchas = manchas\n",
    "        self.color = color\n",
    "        self.vidas_restantes = vidas_restantes\n",
    "        super().__init__(nombre_entrada, vacunas)\n",
    "        \n",
    "    def ruido(self):\n",
    "        print(\"Miau miau vete de aqui\")\n",
    "        \n",
    "    def comer(self):\n",
    "        print(\"Como que croquetas padrino? Y mi atun?\")"
   ]
  },
  {
   "cell_type": "code",
   "execution_count": 267,
   "id": "8963ad5b-9bd7-4c18-b735-8db1fbfd33e5",
   "metadata": {},
   "outputs": [],
   "source": [
    "capuchino = Perro(\"capuchino\", 2)"
   ]
  },
  {
   "cell_type": "code",
   "execution_count": 268,
   "id": "73e5dd01-ae76-41eb-9f3a-e972b8f06251",
   "metadata": {},
   "outputs": [],
   "source": [
    "nana = Gato(\"nana\", .5, \"gris\", manchas = False, vacunas = True)"
   ]
  },
  {
   "cell_type": "code",
   "execution_count": 270,
   "id": "49808b88-ff57-4d67-9a73-af9dbad95a91",
   "metadata": {},
   "outputs": [
    {
     "data": {
      "text/plain": [
       "{'edad': 2,\n",
       " 'manchas': True,\n",
       " 'alimento': 'croquetas',\n",
       " 'nombre': 'capuchino',\n",
       " 'vacunas': False}"
      ]
     },
     "execution_count": 270,
     "metadata": {},
     "output_type": "execute_result"
    }
   ],
   "source": [
    "capuchino.__dict__"
   ]
  },
  {
   "cell_type": "code",
   "execution_count": 271,
   "id": "958443ad-3528-40c2-bd78-615a7dd54e22",
   "metadata": {},
   "outputs": [
    {
     "data": {
      "text/plain": [
       "{'edad': 0.5,\n",
       " 'manchas': False,\n",
       " 'color': 'gris',\n",
       " 'vidas_restantes': 9,\n",
       " 'nombre': 'nana',\n",
       " 'vacunas': True}"
      ]
     },
     "execution_count": 271,
     "metadata": {},
     "output_type": "execute_result"
    }
   ],
   "source": [
    "nana.__dict__"
   ]
  },
  {
   "cell_type": "code",
   "execution_count": 272,
   "id": "93462560-ff22-40d3-9d95-2a754d3cfbe7",
   "metadata": {},
   "outputs": [
    {
     "name": "stdout",
     "output_type": "stream",
     "text": [
      "El animal comio\n"
     ]
    }
   ],
   "source": [
    "capuchino.comer()"
   ]
  },
  {
   "cell_type": "code",
   "execution_count": 273,
   "id": "720c9000-9457-4776-a331-a5482fbc100e",
   "metadata": {},
   "outputs": [
    {
     "name": "stdout",
     "output_type": "stream",
     "text": [
      "Como que croquetas padrino? Y mi atun?\n"
     ]
    }
   ],
   "source": [
    "nana.comer()"
   ]
  },
  {
   "cell_type": "code",
   "execution_count": 269,
   "id": "50851c3e-9705-42cb-a6a2-b5ac0e98ff0a",
   "metadata": {},
   "outputs": [],
   "source": [
    "mascotas = [capuchino, nana]"
   ]
  },
  {
   "cell_type": "markdown",
   "id": "a48453c3-874d-4af2-b2d6-40cbef0f3840",
   "metadata": {
    "tags": []
   },
   "source": [
    "# Ejemplo polimorfismos en otros lenguajes\n",
    "```\n",
    "def select(nombre_columna:string):\n",
    "    regresar la columna en el dataframe\n",
    "    \n",
    "def select(lista(columnas)):\n",
    "    regresa la lista de columnas\n",
    "    \n",
    "select(\"id_usuario\")\n",
    "\n",
    "select(List(col(\"id_usuario\"), col(\"edad\")))\n",
    "```"
   ]
  },
  {
   "cell_type": "code",
   "execution_count": 274,
   "id": "7396ed00-506b-4e18-a662-d4af39bb1318",
   "metadata": {},
   "outputs": [
    {
     "name": "stdout",
     "output_type": "stream",
     "text": [
      "Guau guau si soy un perro\n",
      "Miau miau vete de aqui\n"
     ]
    }
   ],
   "source": [
    "for animal in mascotas:\n",
    "    animal.ruido()"
   ]
  },
  {
   "cell_type": "code",
   "execution_count": 275,
   "id": "f3a6e653-4a8f-4739-9024-96526e31b6f0",
   "metadata": {},
   "outputs": [
    {
     "name": "stdout",
     "output_type": "stream",
     "text": [
      "Guau guau si soy un perro\n"
     ]
    }
   ],
   "source": [
    "capuchino.ruido()"
   ]
  },
  {
   "cell_type": "code",
   "execution_count": 276,
   "id": "f3968844-73c6-4021-aa69-289b14d6cc06",
   "metadata": {},
   "outputs": [
    {
     "name": "stdout",
     "output_type": "stream",
     "text": [
      "Miau miau vete de aqui\n"
     ]
    }
   ],
   "source": [
    "nana.ruido()"
   ]
  },
  {
   "cell_type": "code",
   "execution_count": 277,
   "id": "7e1abf65-1210-4abd-ad30-3bda69fd0b3a",
   "metadata": {},
   "outputs": [
    {
     "data": {
      "text/plain": [
       "4"
      ]
     },
     "execution_count": 277,
     "metadata": {},
     "output_type": "execute_result"
    }
   ],
   "source": [
    "len(\"dfai\")"
   ]
  },
  {
   "cell_type": "code",
   "execution_count": 278,
   "id": "22a8d274-5ca9-421c-8628-8c28edaed5ad",
   "metadata": {},
   "outputs": [
    {
     "data": {
      "text/plain": [
       "2"
      ]
     },
     "execution_count": 278,
     "metadata": {},
     "output_type": "execute_result"
    }
   ],
   "source": [
    "len([\"fds\",2])"
   ]
  },
  {
   "cell_type": "code",
   "execution_count": 279,
   "id": "0b426e6c-5907-4947-a11b-4b8369287ba3",
   "metadata": {},
   "outputs": [
    {
     "ename": "TypeError",
     "evalue": "object of type 'Perro' has no len()",
     "output_type": "error",
     "traceback": [
      "\u001b[1;31m---------------------------------------------------------------------------\u001b[0m",
      "\u001b[1;31mTypeError\u001b[0m                                 Traceback (most recent call last)",
      "Input \u001b[1;32mIn [279]\u001b[0m, in \u001b[0;36m<cell line: 1>\u001b[1;34m()\u001b[0m\n\u001b[1;32m----> 1\u001b[0m \u001b[38;5;28;43mlen\u001b[39;49m\u001b[43m(\u001b[49m\u001b[43mcapuchino\u001b[49m\u001b[43m)\u001b[49m\n",
      "\u001b[1;31mTypeError\u001b[0m: object of type 'Perro' has no len()"
     ]
    }
   ],
   "source": [
    "len(capuchino)"
   ]
  },
  {
   "cell_type": "code",
   "execution_count": 280,
   "id": "9eacebe8-aaf6-4c71-814e-0775ca9c4fb0",
   "metadata": {},
   "outputs": [
    {
     "name": "stdout",
     "output_type": "stream",
     "text": [
      "<__main__.Perro object at 0x0000012D993D5490>\n"
     ]
    }
   ],
   "source": [
    "print(capuchino)"
   ]
  }
 ],
 "metadata": {
  "kernelspec": {
   "display_name": "Python 3 (ipykernel)",
   "language": "python",
   "name": "python3"
  },
  "language_info": {
   "codemirror_mode": {
    "name": "ipython",
    "version": 3
   },
   "file_extension": ".py",
   "mimetype": "text/x-python",
   "name": "python",
   "nbconvert_exporter": "python",
   "pygments_lexer": "ipython3",
   "version": "3.9.7"
  }
 },
 "nbformat": 4,
 "nbformat_minor": 5
}
