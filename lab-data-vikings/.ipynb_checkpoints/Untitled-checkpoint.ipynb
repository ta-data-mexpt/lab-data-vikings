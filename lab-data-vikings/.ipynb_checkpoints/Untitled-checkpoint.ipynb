{
 "cells": [
  {
   "cell_type": "code",
   "execution_count": 27,
   "id": "d0fe6b1c-0ffc-4aa5-8aa6-6fcd4b546115",
   "metadata": {},
   "outputs": [],
   "source": [
    "dic_p = {}\n",
    "class Soldier:\n",
    "    def __init__(self, nombre, puntaje):\n",
    "        self.nombre = nombre\n",
    "        self.puntaje = puntaje\n",
    "        dic_p[self.nombre] = self.puntaje \n",
    "    \n",
    "    def dic_p2(self):\n",
    "        print(self.nombre)\n",
    "        dic_p[self.nombre] = self.puntaje "
   ]
  },
  {
   "cell_type": "code",
   "execution_count": 28,
   "id": "aa21d9b6-ca25-41be-bb79-f815ba3e3d3d",
   "metadata": {},
   "outputs": [],
   "source": [
    "Marcos = Soldier('marcos', 10)"
   ]
  },
  {
   "cell_type": "code",
   "execution_count": 30,
   "id": "9fd17b06-e1e6-42eb-9f34-20120ba7b2ff",
   "metadata": {},
   "outputs": [
    {
     "name": "stdout",
     "output_type": "stream",
     "text": [
      "{'marcos': 10}\n"
     ]
    }
   ],
   "source": [
    "print(dic_p)"
   ]
  },
  {
   "cell_type": "code",
   "execution_count": 22,
   "id": "e342b9b8-8d21-4fd2-b16f-295e6995cb2e",
   "metadata": {},
   "outputs": [
    {
     "data": {
      "text/plain": [
       "10"
      ]
     },
     "execution_count": 22,
     "metadata": {},
     "output_type": "execute_result"
    }
   ],
   "source": [
    "Marcos.puntaje"
   ]
  },
  {
   "cell_type": "code",
   "execution_count": 23,
   "id": "b7329954-d448-4827-a781-368eeb549e68",
   "metadata": {},
   "outputs": [
    {
     "name": "stdout",
     "output_type": "stream",
     "text": [
      "marcos\n"
     ]
    }
   ],
   "source": [
    "Marcos.dic_p2()"
   ]
  },
  {
   "cell_type": "code",
   "execution_count": 29,
   "id": "a77bf652-db7b-44d4-94ad-aea974812acf",
   "metadata": {},
   "outputs": [
    {
     "name": "stdout",
     "output_type": "stream",
     "text": [
      "{'marcos': 10}\n"
     ]
    }
   ],
   "source": [
    "print(dic_p)"
   ]
  },
  {
   "cell_type": "code",
   "execution_count": 1,
   "id": "b0726027-faee-4b4a-8a50-7f6e4606e122",
   "metadata": {},
   "outputs": [],
   "source": [
    "class Crawler:\n",
    "    def __init__(self, url, paginas=1, navegador = 'Chrome'):\n",
    "        self.pagina_web = url\n",
    "        self.npginas = paginas\n",
    "        self.driver = navegador\n",
    "    def acceder_pagina(self):\n",
    "        print(f'Usando navegador {self.driver}')\n",
    "        print(f'accedimos a la pagina {self.pagina_web}')\n",
    "    def sacar_info(self):\n",
    "        for pagina in range(self.npaginas):\n",
    "            print(f'Usando navegador {pagina}')\n",
    "class ScraperIronhack(Crawler):\n",
    "    def __init__(self, user, password, url, paginas=1, navegador = 'Chrome'):\n",
    "        self.user = user\n",
    "        self.password = password\n",
    "        super().__init__(url, paginas=1, navegador = 'Chrome')\n",
    "    def iniciar_sesion(self):\n",
    "        print(f'Iniciando sesion usuario {self.user}')\n",
    "    def acceder_pagina(self):\n",
    "        print(f'Usando navegador {self.driver}')\n",
    "        print(f'Accedimos a la pagina {self.pagina_web}')\n",
    "        print('Favor de iniciar sesion')\n",
    "class ScraperInsta(Crawler):\n",
    "    def __init__(self, user, password, url, paginas = 1, navegador = 'Chrome'):\n",
    "        self.user = user\n",
    "        self.password = password\n",
    "        super().__init__(url, paginas, navegador)\n",
    "    def iniciar_sesion(self):\n",
    "        print(f'Iniciando sesion usuario {self.user}')\n",
    "    def stalkear(self):\n",
    "        print('Ya superala')"
   ]
  },
  {
   "cell_type": "code",
   "execution_count": null,
   "id": "14a39fcb-1ba7-48da-9c3a-31e0910fcdce",
   "metadata": {},
   "outputs": [],
   "source": []
  },
  {
   "cell_type": "code",
   "execution_count": 12,
   "id": "544c7866-33cc-4629-b22a-09d7dd334b33",
   "metadata": {},
   "outputs": [],
   "source": [
    "\n",
    "# Soldier\n",
    "\n",
    "\n",
    "class Soldier:\n",
    "    def __init__(self, health, strength):\n",
    "        self.health = health\n",
    "        self.strength = strength\n",
    "    \n",
    "    def attack(self):\n",
    "        return self.strength\n",
    "    \n",
    "    def receiveDamage(self, receiveDamage):\n",
    "        self.health = self.health - receiveDamage \n",
    "    pass\n",
    "\n",
    "# Viking\n",
    "\n",
    "class Viking(Soldier):\n",
    "    def __init__(self, name, health, strength):\n",
    "        self.name = name\n",
    "        super().__init__(health, strength)\n",
    "    \n",
    "    def receiveDamage(self, receiveDamage):\n",
    "        self.health = self.health - receiveDamage\n",
    "        if self.health > 0:\n",
    "            #print(f'{self.name} has received {receiveDamage} points of damage')\n",
    "            return f'{self.name} has received {receiveDamage} points of damage'\n",
    "        else:\n",
    "            return f'{self.name} has died in act of combat'\n",
    "    \n",
    "    def battleCry(self):\n",
    "        return 'Odin Owns You All!'\n",
    "        \n",
    "    pass\n",
    "\n",
    "# Saxon\n",
    "\n",
    "\n",
    "class Saxon(Soldier):\n",
    "    def __init__(self, health, strength):\n",
    "        super().__init__(health, strength)\n",
    "        \n",
    "    def receiveDamage(self, receiveDamage):\n",
    "        self.health = self.health - receiveDamage\n",
    "        if self.health > 0:\n",
    "            #print(f'{self.name} has received {receiveDamage} points of damage')\n",
    "            return f'A Saxon has received {receiveDamage} points of damage'\n",
    "        else:\n",
    "            return f'A Saxon has died in combat'\n",
    "        \n",
    "    pass\n",
    "\n",
    "# War\n",
    "\n",
    "\n",
    "class War:\n",
    "    def __init__(self):\n",
    "        self.vikingArmy = []\n",
    "        self.saxonArmy = []\n",
    "        \n",
    "    def addViking(self, Viking):\n",
    "        self.vikingArmy.append(Viking())\n",
    "        \n",
    "    def addSaxon(self, Saxon):\n",
    "        self.saxonArmy.append(Saxon())\n",
    "    \n",
    "    #def vikingAttack(self):\n",
    "    #    for item in self.saxonArmy:\n",
    "    #        for item2 in self.vikingArmy:\n",
    "    #            if item.receiveDamage == item2.strength:\n",
    "    #                resul= item.receiveDamage - item2.strength\n",
    "    #                self.saxonArmy.remove(item)\n",
    "    #    return resul\n",
    "    \n",
    "    def vikingAttack(self):\n",
    "        \n",
    "        if Saxon.receiveDamage(Viking.strength) < 0:\n",
    "            War.saxonArmy.remove(Saxon)\n",
    "        return War.saxonArmy.remove(Saxon)\n",
    "    \n",
    "    def SaxonAttack(self):\n",
    "        \n",
    "        if Viking.receiveDamage(Saxon.strength) < 0:\n",
    "            War.VikingArmy.remove(Viking.name)\n",
    "        return War.VikingArmy.remove(Viking.name)\n",
    "    \n",
    "        def showStatus(self):\n",
    "            if len(self.saxonArmy)==0:\n",
    "                return \"Vikings have won the war of the century!\"\n",
    "            if len(self.vikingArmy)==0:\n",
    "                return \"Saxons have fought for their lives and survive another day...\"\n",
    "            else:\n",
    "                return \"Vikings and Saxons are still in the thick of battle.\"\n",
    "        \n",
    "    pass\n"
   ]
  },
  {
   "cell_type": "code",
   "execution_count": null,
   "id": "0eab66b6-8787-49ac-a4ee-ca6b8e06b035",
   "metadata": {},
   "outputs": [],
   "source": [
    "def vikingAttack(self):\n",
    "        resul=0\n",
    "        for item in self.saxonArmy:\n",
    "            for item2 in self.vikingArmy:\n",
    "                if item.receiveDamage == item2.strength:\n",
    "                    resul= item.receiveDamage - item2.strength\n",
    "                    self.saxonArmy.remove(item)\n",
    "        return resul\n",
    "    \n",
    "    def saxonAttack(self):\n",
    "        resul=0\n",
    "        for item in self.vikingArmy:\n",
    "            for item2 in self.saxonArmy:\n",
    "                if item.receiveDamage == item2.strength:\n",
    "                    resul= item.receiveDamage - item2.strength\n",
    "                    self.vikingArmy.remove(item)\n",
    "        return resul\n",
    "    "
   ]
  },
  {
   "cell_type": "code",
   "execution_count": null,
   "id": "d7e0f906-7952-417b-8703-7e131ba75754",
   "metadata": {},
   "outputs": [],
   "source": []
  },
  {
   "cell_type": "code",
   "execution_count": null,
   "id": "691c4e4e-1505-4cf9-93f2-031414d978b5",
   "metadata": {},
   "outputs": [],
   "source": []
  },
  {
   "cell_type": "code",
   "execution_count": null,
   "id": "782403be-80f6-40e4-9e5a-5b77023a4479",
   "metadata": {},
   "outputs": [],
   "source": []
  },
  {
   "cell_type": "code",
   "execution_count": null,
   "id": "4130cf56-3654-4914-9912-cacfad30b497",
   "metadata": {},
   "outputs": [],
   "source": []
  },
  {
   "cell_type": "code",
   "execution_count": null,
   "id": "953dadea-a93b-4b0d-a13b-83beca551dfa",
   "metadata": {},
   "outputs": [],
   "source": []
  },
  {
   "cell_type": "code",
   "execution_count": null,
   "id": "e3ebd8b6-e6b4-41e8-96d5-3a92e8220996",
   "metadata": {},
   "outputs": [],
   "source": []
  }
 ],
 "metadata": {
  "kernelspec": {
   "display_name": "Python 3 (ipykernel)",
   "language": "python",
   "name": "python3"
  },
  "language_info": {
   "codemirror_mode": {
    "name": "ipython",
    "version": 3
   },
   "file_extension": ".py",
   "mimetype": "text/x-python",
   "name": "python",
   "nbconvert_exporter": "python",
   "pygments_lexer": "ipython3",
   "version": "3.9.12"
  }
 },
 "nbformat": 4,
 "nbformat_minor": 5
}
