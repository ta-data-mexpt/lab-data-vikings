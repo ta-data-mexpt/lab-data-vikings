{
 "cells": [
  {
   "cell_type": "markdown",
   "id": "63753ac7-97a4-4c15-baae-d0a454aa1808",
   "metadata": {},
   "source": [
    "# Lab de clases "
   ]
  },
  {
   "cell_type": "code",
   "execution_count": 20,
   "id": "e3e72e55-e795-4510-9569-752da669fa7d",
   "metadata": {},
   "outputs": [],
   "source": [
    "# Soldier\n",
    "\n",
    "\n",
    "class Soldier:\n",
    "    \n",
    "    def __init__(self, health, strength):\n",
    "        self.health = health\n",
    "        self.strength = strength\n",
    "    \n",
    "    def attack(self):\n",
    "        return self.strength\n",
    "    \n",
    "    def receiveDamage(self, damage):\n",
    "        self.health = self.health - damage"
   ]
  },
  {
   "cell_type": "code",
   "execution_count": 21,
   "id": "09636f76-7b8e-4e70-9a2f-471cc042d89a",
   "metadata": {},
   "outputs": [],
   "source": [
    "Soldier1 = Soldier(2, 10)"
   ]
  },
  {
   "cell_type": "code",
   "execution_count": 22,
   "id": "405e7b72-6b15-4b2a-b29f-dbf993cd343f",
   "metadata": {},
   "outputs": [
    {
     "data": {
      "text/plain": [
       "2"
      ]
     },
     "execution_count": 22,
     "metadata": {},
     "output_type": "execute_result"
    }
   ],
   "source": [
    "Soldier1.health"
   ]
  },
  {
   "cell_type": "code",
   "execution_count": 23,
   "id": "06d1d716-7bef-46a8-9f96-a5277c82aed7",
   "metadata": {},
   "outputs": [
    {
     "data": {
      "text/plain": [
       "10"
      ]
     },
     "execution_count": 23,
     "metadata": {},
     "output_type": "execute_result"
    }
   ],
   "source": [
    "Soldier1.strength"
   ]
  },
  {
   "cell_type": "code",
   "execution_count": 24,
   "id": "6ac14890-6c6a-445d-b450-7aff1be4b986",
   "metadata": {},
   "outputs": [
    {
     "data": {
      "text/plain": [
       "10"
      ]
     },
     "execution_count": 24,
     "metadata": {},
     "output_type": "execute_result"
    }
   ],
   "source": [
    "Soldier1.attack()"
   ]
  },
  {
   "cell_type": "code",
   "execution_count": 25,
   "id": "b2624414-e2a2-4d0a-a6e0-9786cd3727ed",
   "metadata": {},
   "outputs": [],
   "source": [
    "# Viking\n",
    "\n",
    "\n",
    "class Viking(Soldier):\n",
    "    def __init__(self, name, health, strength):\n",
    "        self.name = name\n",
    "        self.health = health\n",
    "        self.strength = strength\n",
    "    \n",
    "    def receiveDamage(self, damage):\n",
    "        self.health = self.health - damage\n",
    "        if self.health > 0:\n",
    "            return f\"{self.name} has received {damage} points of damage\"\n",
    "        else:\n",
    "            return f\"{self.name} has died in act of combat\"\n",
    "    \n",
    "    def battleCry(self):\n",
    "        return \"Odin Owns You All!\""
   ]
  },
  {
   "cell_type": "code",
   "execution_count": 3,
   "id": "0fa781d3-0f4c-49f8-b8d0-41fb913a0a83",
   "metadata": {},
   "outputs": [],
   "source": [
    "# Saxon\n",
    "\n",
    "\n",
    "class Saxon(Soldier):\n",
    "    \n",
    "    def __init__(self, health, strength):\n",
    "        self.health = health\n",
    "        self.strength = strength\n",
    "    \n",
    "    def receiveDamage(self, damage):\n",
    "        self.health = self.health - damage\n",
    "        if self.health > 0:\n",
    "            return f\"A Saxon has received {damage} points of damage\"\n",
    "        else:\n",
    "            return \"A Saxon has died in combat\""
   ]
  },
  {
   "cell_type": "code",
   "execution_count": null,
   "id": "5fc5781b-423e-44cf-8f08-ed015f296cde",
   "metadata": {},
   "outputs": [],
   "source": []
  }
 ],
 "metadata": {
  "kernelspec": {
   "display_name": "Python 3",
   "language": "python",
   "name": "python3"
  },
  "language_info": {
   "codemirror_mode": {
    "name": "ipython",
    "version": 3
   },
   "file_extension": ".py",
   "mimetype": "text/x-python",
   "name": "python",
   "nbconvert_exporter": "python",
   "pygments_lexer": "ipython3",
   "version": "3.8.8"
  }
 },
 "nbformat": 4,
 "nbformat_minor": 5
}
