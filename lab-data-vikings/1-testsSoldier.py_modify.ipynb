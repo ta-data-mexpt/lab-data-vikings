{
 "cells": [
  {
   "cell_type": "code",
   "execution_count": 1,
   "id": "warming-wheel",
   "metadata": {},
   "outputs": [],
   "source": [
    "import unittest\n",
    "from vikingsClases import Soldier\n",
    "from inspect import signature"
   ]
  },
  {
   "cell_type": "code",
   "execution_count": 8,
   "id": "industrial-quarter",
   "metadata": {},
   "outputs": [],
   "source": [
    "class TestSoldier(unittest.TestCase):\n",
    "\n",
    "    @classmethod\n",
    "    def setUp(cls):\n",
    "        cls.strength = 150\n",
    "        cls.health = 300\n",
    "        cls.soldier = Soldier(cls.health, cls.strength)\n",
    "\n",
    "    def testConstructorSignature(self):\n",
    "        self.assertEqual(len(signature(Soldier).parameters), 2)\n",
    "\n",
    "    def testHealth(self):\n",
    "        self.assertEqual(self.soldier.health, self.health)\n",
    "\n",
    "    def testStrength(self):\n",
    "        self.assertEqual(self.soldier.strength, self.strength)\n",
    "\n",
    "    def testAttackShouldBeFunction(self):\n",
    "        self.assertEqual(callable(self.soldier.attack), True)\n",
    "\n",
    "    def testAttackHasNoParams(self):\n",
    "        self.assertEqual(len(signature(self.soldier.attack).parameters), 0)\n",
    "\n",
    "    def testAttackRetunsStrength(self):\n",
    "        self.assertEqual(self.soldier.attack(), self.strength)\n",
    "\n",
    "    def testReceivesDamage(self):\n",
    "        self.assertEqual(callable(self.soldier.receiveDamage), True)\n",
    "\n",
    "    def testReceivesDamageHasParams(self):\n",
    "        self.assertEqual(\n",
    "            len(signature(self.soldier.receiveDamage).parameters), 1)\n",
    "\n",
    "    def testReceiveDamageReturnNone(self):\n",
    "        self.assertEqual(self.soldier.receiveDamage(50), None)\n",
    "\n",
    "    def testCanReceiveDamage(self):\n",
    "        self.soldier.receiveDamage(50)\n",
    "        self.assertEqual(self.soldier.health, self.health - 50)\n"
   ]
  },
  {
   "cell_type": "code",
   "execution_count": null,
   "id": "fewer-chrome",
   "metadata": {},
   "outputs": [],
   "source": []
  }
 ],
 "metadata": {
  "kernelspec": {
   "display_name": "Python 3",
   "language": "python",
   "name": "python3"
  },
  "language_info": {
   "codemirror_mode": {
    "name": "ipython",
    "version": 3
   },
   "file_extension": ".py",
   "mimetype": "text/x-python",
   "name": "python",
   "nbconvert_exporter": "python",
   "pygments_lexer": "ipython3",
   "version": "3.9.2"
  }
 },
 "nbformat": 4,
 "nbformat_minor": 5
}
